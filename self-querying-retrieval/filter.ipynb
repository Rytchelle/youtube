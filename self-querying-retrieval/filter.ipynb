{
 "cells": [
  {
   "cell_type": "code",
   "execution_count": 1,
   "id": "4000210d-ce0b-4dc5-8160-c0377ebcfea7",
   "metadata": {},
   "outputs": [],
   "source": [
    "import os\n",
    "import warnings\n",
    "import pandas as pd\n",
    "from qdrant_client import models, QdrantClient\n",
    "from sentence_transformers import SentenceTransformer\n",
    "from dotenv import load_dotenv\n",
    "\n",
    "warnings.filterwarnings('ignore')\n",
    "encoder = SentenceTransformer(\"all-MiniLM-L6-v2\")\n",
    "load_dotenv()\n",
    "\n",
    "client = QdrantClient(\n",
    "    os.getenv(\"QDRANT_HOST\"),\n",
    "    api_key=os.getenv(\"QDRANT_API_KEY\")\n",
    ")"
   ]
  },
  {
   "cell_type": "code",
   "execution_count": null,
   "id": "9f7c1cfe-e715-4b7b-b714-6a57049a37ac",
   "metadata": {},
   "outputs": [],
   "source": []
  },
  {
   "cell_type": "code",
   "execution_count": null,
   "id": "c2f6377f-03a3-49aa-8db6-d313c7660f48",
   "metadata": {},
   "outputs": [],
   "source": []
  },
  {
   "cell_type": "markdown",
   "id": "448b2be3-f519-4632-a3fb-a4c850077a9b",
   "metadata": {},
   "source": [
    "### Carregando e limpando os dados\n",
    "[Esse dataset](https://www.kaggle.com/datasets/zynicide/wine-reviews) contém aproximadamente 130k reviews de vinhos\n",
    "\n",
    "Depois de limpo ficamos com 120k"
   ]
  },
  {
   "cell_type": "code",
   "execution_count": 2,
   "id": "54c4e1fa-c2ef-44b9-8a81-f6bb9f0b5afd",
   "metadata": {},
   "outputs": [],
   "source": [
    "df = pd.read_csv(\"winemag-data-130k-v2.csv\")"
   ]
  },
  {
   "cell_type": "code",
   "execution_count": 3,
   "id": "cf07531b-974c-41a5-8d99-1ae266c005f7",
   "metadata": {},
   "outputs": [],
   "source": [
    "wines = df.copy()\n",
    "wines = wines.drop([\"Unnamed: 0\", \"designation\", \"province\", \"region_1\", \"region_2\", \"taster_name\", \"taster_twitter_handle\", \"winery\"], axis=1)\n",
    "wines = wines.dropna(subset=[\"country\", \"price\", \"variety\"])"
   ]
  },
  {
   "cell_type": "code",
   "execution_count": 4,
   "id": "82cb3927-c9d2-447b-8ad5-145e5d1e3c2b",
   "metadata": {},
   "outputs": [
    {
     "data": {
      "text/html": [
       "<div>\n",
       "<style scoped>\n",
       "    .dataframe tbody tr th:only-of-type {\n",
       "        vertical-align: middle;\n",
       "    }\n",
       "\n",
       "    .dataframe tbody tr th {\n",
       "        vertical-align: top;\n",
       "    }\n",
       "\n",
       "    .dataframe thead th {\n",
       "        text-align: right;\n",
       "    }\n",
       "</style>\n",
       "<table border=\"1\" class=\"dataframe\">\n",
       "  <thead>\n",
       "    <tr style=\"text-align: right;\">\n",
       "      <th></th>\n",
       "      <th>country</th>\n",
       "      <th>description</th>\n",
       "      <th>points</th>\n",
       "      <th>price</th>\n",
       "      <th>title</th>\n",
       "      <th>variety</th>\n",
       "    </tr>\n",
       "  </thead>\n",
       "  <tbody>\n",
       "    <tr>\n",
       "      <th>1</th>\n",
       "      <td>Portugal</td>\n",
       "      <td>This is ripe and fruity, a wine that is smooth...</td>\n",
       "      <td>87</td>\n",
       "      <td>15.0</td>\n",
       "      <td>Quinta dos Avidagos 2011 Avidagos Red (Douro)</td>\n",
       "      <td>Portuguese Red</td>\n",
       "    </tr>\n",
       "    <tr>\n",
       "      <th>2</th>\n",
       "      <td>US</td>\n",
       "      <td>Tart and snappy, the flavors of lime flesh and...</td>\n",
       "      <td>87</td>\n",
       "      <td>14.0</td>\n",
       "      <td>Rainstorm 2013 Pinot Gris (Willamette Valley)</td>\n",
       "      <td>Pinot Gris</td>\n",
       "    </tr>\n",
       "    <tr>\n",
       "      <th>3</th>\n",
       "      <td>US</td>\n",
       "      <td>Pineapple rind, lemon pith and orange blossom ...</td>\n",
       "      <td>87</td>\n",
       "      <td>13.0</td>\n",
       "      <td>St. Julian 2013 Reserve Late Harvest Riesling ...</td>\n",
       "      <td>Riesling</td>\n",
       "    </tr>\n",
       "    <tr>\n",
       "      <th>4</th>\n",
       "      <td>US</td>\n",
       "      <td>Much like the regular bottling from 2012, this...</td>\n",
       "      <td>87</td>\n",
       "      <td>65.0</td>\n",
       "      <td>Sweet Cheeks 2012 Vintner's Reserve Wild Child...</td>\n",
       "      <td>Pinot Noir</td>\n",
       "    </tr>\n",
       "    <tr>\n",
       "      <th>5</th>\n",
       "      <td>Spain</td>\n",
       "      <td>Blackberry and raspberry aromas show a typical...</td>\n",
       "      <td>87</td>\n",
       "      <td>15.0</td>\n",
       "      <td>Tandem 2011 Ars In Vitro Tempranillo-Merlot (N...</td>\n",
       "      <td>Tempranillo-Merlot</td>\n",
       "    </tr>\n",
       "  </tbody>\n",
       "</table>\n",
       "</div>"
      ],
      "text/plain": [
       "    country                                        description  points  price  \\\n",
       "1  Portugal  This is ripe and fruity, a wine that is smooth...      87   15.0   \n",
       "2        US  Tart and snappy, the flavors of lime flesh and...      87   14.0   \n",
       "3        US  Pineapple rind, lemon pith and orange blossom ...      87   13.0   \n",
       "4        US  Much like the regular bottling from 2012, this...      87   65.0   \n",
       "5     Spain  Blackberry and raspberry aromas show a typical...      87   15.0   \n",
       "\n",
       "                                               title             variety  \n",
       "1      Quinta dos Avidagos 2011 Avidagos Red (Douro)      Portuguese Red  \n",
       "2      Rainstorm 2013 Pinot Gris (Willamette Valley)          Pinot Gris  \n",
       "3  St. Julian 2013 Reserve Late Harvest Riesling ...            Riesling  \n",
       "4  Sweet Cheeks 2012 Vintner's Reserve Wild Child...          Pinot Noir  \n",
       "5  Tandem 2011 Ars In Vitro Tempranillo-Merlot (N...  Tempranillo-Merlot  "
      ]
     },
     "execution_count": 4,
     "metadata": {},
     "output_type": "execute_result"
    }
   ],
   "source": [
    "wines.head()"
   ]
  },
  {
   "cell_type": "code",
   "execution_count": 5,
   "id": "ddc8e37e-0cae-4141-8db8-df87d5406df4",
   "metadata": {},
   "outputs": [
    {
     "name": "stdout",
     "output_type": "stream",
     "text": [
      "<class 'pandas.core.frame.DataFrame'>\n",
      "Index: 120915 entries, 1 to 129970\n",
      "Data columns (total 6 columns):\n",
      " #   Column       Non-Null Count   Dtype  \n",
      "---  ------       --------------   -----  \n",
      " 0   country      120915 non-null  object \n",
      " 1   description  120915 non-null  object \n",
      " 2   points       120915 non-null  int64  \n",
      " 3   price        120915 non-null  float64\n",
      " 4   title        120915 non-null  object \n",
      " 5   variety      120915 non-null  object \n",
      "dtypes: float64(1), int64(1), object(4)\n",
      "memory usage: 6.5+ MB\n"
     ]
    }
   ],
   "source": [
    "wines.info()"
   ]
  },
  {
   "cell_type": "markdown",
   "id": "df3389b0-ca4b-4ce5-9886-ed26799ce850",
   "metadata": {},
   "source": [
    "### Criando a collection no vector database"
   ]
  },
  {
   "cell_type": "code",
   "execution_count": null,
   "id": "f29adf7f-fc4d-46d5-8982-e65c1f5575a0",
   "metadata": {},
   "outputs": [],
   "source": [
    "client.create_collection(\n",
    "    collection_name=\"wine_reviews\",\n",
    "    vectors_config=models.VectorParams(\n",
    "        size=encoder.get_sentence_embedding_dimension(),\n",
    "        distance=models.Distance.COSINE,\n",
    "    ),\n",
    ")"
   ]
  },
  {
   "cell_type": "code",
   "execution_count": null,
   "id": "591aea15-f4e6-444f-abab-ecd824a40426",
   "metadata": {},
   "outputs": [],
   "source": [
    "# Document class to structure data\n",
    "class Document:\n",
    "    def __init__(self, page_content, metadata):\n",
    "        self.page_content = page_content\n",
    "        self.metadata = metadata\n",
    "\n",
    "# Convert DataFrame rows into Document objects\n",
    "def df_to_documents(df):\n",
    "    documents = []\n",
    "    for _, row in df.iterrows():\n",
    "        metadata = {\n",
    "            \"country\": row[\"country\"],\n",
    "            \"points\": row[\"points\"],\n",
    "            \"price\": row[\"price\"],\n",
    "            \"title\": row[\"title\"],\n",
    "            \"variety\": row[\"variety\"]\n",
    "        }\n",
    "        document = Document(page_content=row[\"description\"], metadata=metadata)\n",
    "        documents.append(document)\n",
    "    return documents\n",
    "\n",
    "docs = df_to_documents(wines)"
   ]
  },
  {
   "cell_type": "code",
   "execution_count": null,
   "id": "0d5f90d6-aede-453c-b0d8-6342042d13c3",
   "metadata": {},
   "outputs": [],
   "source": [
    "points = [\n",
    "    models.PointStruct(\n",
    "        id=idx, \n",
    "        vector=encoder.encode(doc.page_content).tolist(), \n",
    "        payload={'metadata': doc.metadata, 'page_content': doc.page_content}\n",
    "    )\n",
    "    for idx, doc in enumerate(docs)\n",
    "]"
   ]
  },
  {
   "cell_type": "code",
   "execution_count": null,
   "id": "b88e6345-4167-41bf-a5e2-78d05ab82352",
   "metadata": {},
   "outputs": [],
   "source": [
    "client.upload_points(\n",
    "    collection_name=\"wine_reviews\",\n",
    "    points=points,\n",
    ")"
   ]
  },
  {
   "cell_type": "markdown",
   "id": "6ba4eb86-e632-4789-a26e-2c226abfc3af",
   "metadata": {},
   "source": [
    "### Testando a busca"
   ]
  },
  {
   "cell_type": "code",
   "execution_count": 6,
   "id": "b2d87f31-5d97-4ac9-80d3-94cd2dcd76a7",
   "metadata": {},
   "outputs": [
    {
     "name": "stdout",
     "output_type": "stream",
     "text": [
      "Aveleda 2010 Follies Quinta da Agueira Touriga Nacional (Beiras) score: 0.46982166\n",
      "Quinta da Romaneira 2013 Sino da Romaneira Red (Douro) score: 0.43031904\n",
      "Quinta da Romaneira 2013 Sino da Romaneira Red (Douro) score: 0.43031904\n"
     ]
    }
   ],
   "source": [
    "hits = client.search(\n",
    "    collection_name=\"wine_reviews\",\n",
    "    query_vector=encoder.encode(\"Quinta dos Avidagos 2011\").tolist(),\n",
    "    limit=3,\n",
    ")\n",
    "\n",
    "for hit in hits:\n",
    "    print(hit.payload['metadata']['title'], \"score:\", hit.score)"
   ]
  },
  {
   "cell_type": "markdown",
   "id": "34b398f5-9fbd-4658-89e8-bd51057e417f",
   "metadata": {},
   "source": [
    "### Testando com filtros"
   ]
  },
  {
   "cell_type": "code",
   "execution_count": 7,
   "id": "32dfe2f9-d547-47c1-a3c8-6b8ab843fcce",
   "metadata": {},
   "outputs": [
    {
     "name": "stdout",
     "output_type": "stream",
     "text": [
      "Ballentine 2010 Fig Tree Vineyard Petite Sirah (St. Helena) \n",
      "price: 28.0 \n",
      "points: 91 \n",
      "\n",
      "\n",
      "Seven Angels 2012 St. Peter of Alcantara Vineyard Zinfandel (Paso Robles) \n",
      "price: 29.0 \n",
      "points: 92 \n",
      "\n",
      "\n",
      "Jamieson Canyon 1999 Cabernet Sauvignon (Napa Valley) \n",
      "price: 20.0 \n",
      "points: 91 \n",
      "\n",
      "\n"
     ]
    }
   ],
   "source": [
    "# query filter\n",
    "hits = client.search(\n",
    "    collection_name=\"wine_reviews\",\n",
    "    query_vector=encoder.encode(\"Night Sky\").tolist(),\n",
    "    query_filter=models.Filter(\n",
    "        must=[\n",
    "            models.FieldCondition(key=\"metadata.country\", match=models.MatchValue(value=\"US\")),\n",
    "            models.FieldCondition(key=\"metadata.price\", range=models.Range(gte=15.0, lte=30.0)), \n",
    "            models.FieldCondition(key=\"metadata.points\", range=models.Range(gte=90, lte=100))\n",
    "        ]\n",
    "    ),\n",
    "    limit=3,\n",
    ")\n",
    "\n",
    "for hit in hits:\n",
    "    print(hit.payload['metadata']['title'], \"\\nprice:\", hit.payload['metadata']['price'], \"\\npoints:\", hit.payload['metadata']['points'], \"\\n\\n\")"
   ]
  },
  {
   "cell_type": "markdown",
   "id": "21dd22fc-9734-464a-98ff-a1bff12cd3c5",
   "metadata": {},
   "source": [
    "### LangChain self-querying retrieval"
   ]
  },
  {
   "cell_type": "code",
   "execution_count": 9,
   "id": "8f5d37b9-8dd7-40d9-9ab5-9676bb1c1959",
   "metadata": {},
   "outputs": [],
   "source": [
    "from langchain.chains.query_constructor.base import AttributeInfo\n",
    "from langchain.retrievers.self_query.base import SelfQueryRetriever\n",
    "from langchain_huggingface import HuggingFaceEmbeddings\n",
    "from langchain.callbacks.tracers import ConsoleCallbackHandler\n",
    "from langchain_community.vectorstores import Qdrant\n",
    "from langchain_openai import OpenAI, ChatOpenAI\n",
    "\n",
    "handler = ConsoleCallbackHandler()\n",
    "llm = ChatOpenAI(temperature=0, model=\"gpt-4o-mini\")\n",
    "#llm = OpenAI(temperature=0)\n",
    "\n",
    "embeddings = HuggingFaceEmbeddings(model_name=\"all-MiniLM-L6-v2\")\n",
    "vectorstore = Qdrant(client, collection_name=\"wine_reviews\", embeddings=embeddings)"
   ]
  },
  {
   "cell_type": "code",
   "execution_count": 10,
   "id": "6a6120ca-3550-48e1-9e18-9ac2445a5226",
   "metadata": {},
   "outputs": [],
   "source": [
    "metadata_field_info = [\n",
    "    AttributeInfo(\n",
    "        name=\"country\",\n",
    "        description=\"O país de onde o vinho é proveniente\",\n",
    "        type=\"string\",\n",
    "    ),\n",
    "    AttributeInfo(\n",
    "        name=\"points\",\n",
    "        description=\"O número de pontos que a WineEnthusiast classificou o vinho em uma escala de 1 a 10\",\n",
    "        type=\"integer\",\n",
    "    ),\n",
    "    AttributeInfo(\n",
    "        name=\"price\",\n",
    "        description=\"O preço de uma garrafa de vinho\",\n",
    "        type=\"float\",\n",
    "    ),\n",
    "    AttributeInfo(\n",
    "        name=\"variety\",\n",
    "        description=\"As uvas utilizadas para fazer o vinho\",\n",
    "        type=\"string\",\n",
    "    ),\n",
    "]\n",
    "\n",
    "document_content_description = \"Breve descrição do vinho\"\n",
    "\n",
    "retriever = SelfQueryRetriever.from_llm(\n",
    "    llm,\n",
    "    vectorstore,\n",
    "    document_content_description,\n",
    "    metadata_field_info\n",
    ")"
   ]
  },
  {
   "cell_type": "code",
   "execution_count": 12,
   "id": "938849b7-5956-4ef0-a93a-7480cd13a869",
   "metadata": {},
   "outputs": [
    {
     "data": {
      "text/plain": [
       "[Document(metadata={'country': 'US', 'points': 91, 'price': 28.0, 'title': 'Dobbes Family Estate 2014 Grand Assemblage Pinot Noir (Willamette Valley)', 'variety': 'Pinot Noir', '_id': 10604, '_collection_name': 'wine_reviews'}, page_content='An outstanding value, the latest release of this wine dazzles with bold, black cherry and chocolate mocha flavors. The focus and definition throughout are exceptional also. This is a gem at a more than fair tariff.'),\n",
       " Document(metadata={'country': 'US', 'points': 92, 'price': 30.0, 'title': \"Bouchaine 2013 Chêne d'Argent Estate Vineyard Chardonnay (Carneros)\", 'variety': 'Chardonnay', '_id': 102251, '_collection_name': 'wine_reviews'}, page_content='This is an amazingly fresh and fruity tank-fermented wine, imparting a subtle hint of grass before unleashing sublime layers of melon and apricot alongside measured, zesty acidity. New winemaker Chris Kajani is taking things in a refreshing, aim-for-the-top direction with this bottling.'),\n",
       " Document(metadata={'country': 'US', 'points': 92, 'price': 25.0, 'title': 'Conn Creek 2014 Chardonnay (Carneros)', 'variety': 'Chardonnay', '_id': 100685, '_collection_name': 'wine_reviews'}, page_content=\"A streak of confectionary nougat and lemony acidity combine for a smooth, well-integrated wine, full bodied in style, that's lip-smacking in apple-cider juiciness on the finish.\"),\n",
       " Document(metadata={'country': 'US', 'points': 91, 'price': 19.0, 'title': 'Longoria 2011 Pinot Grigio (Santa Barbara County)', 'variety': 'Pinot Grigio', '_id': 105297, '_collection_name': 'wine_reviews'}, page_content='Rick Longoria shows increasing mastery over this popular variety, lifting it into true complexity. After an outstanding 2010 vintage, his 2011 is even better, showing the same crisp acidity and savory orange, apricot and honey flavors, but with even greater elegance.')]"
      ]
     },
     "execution_count": 12,
     "metadata": {},
     "output_type": "execute_result"
    }
   ],
   "source": [
    "response = retriever.invoke(\"Quais vinhos dos US têm preços entre 15 e 30 e pontos acima de 90?\")\n",
    "response"
   ]
  },
  {
   "cell_type": "code",
   "execution_count": 13,
   "id": "39a8a302-664f-4c01-8a9c-1021c7043c66",
   "metadata": {},
   "outputs": [
    {
     "name": "stdout",
     "output_type": "stream",
     "text": [
      "Dobbes Family Estate 2014 Grand Assemblage Pinot Noir (Willamette Valley) \n",
      " price: 28.0 points: 91 \n",
      "\n",
      "\n",
      "Bouchaine 2013 Chêne d'Argent Estate Vineyard Chardonnay (Carneros) \n",
      " price: 30.0 points: 92 \n",
      "\n",
      "\n",
      "Conn Creek 2014 Chardonnay (Carneros) \n",
      " price: 25.0 points: 92 \n",
      "\n",
      "\n",
      "Longoria 2011 Pinot Grigio (Santa Barbara County) \n",
      " price: 19.0 points: 91 \n",
      "\n",
      "\n"
     ]
    }
   ],
   "source": [
    "for resp in response:\n",
    "    print(resp.metadata['title'], \"\\n price:\", resp.metadata['price'], \"points:\", resp.metadata['points'], \"\\n\\n\")"
   ]
  },
  {
   "cell_type": "code",
   "execution_count": 16,
   "id": "4fb89996-839a-45c5-a27d-959e64774dbe",
   "metadata": {},
   "outputs": [
    {
     "name": "stdout",
     "output_type": "stream",
     "text": [
      "La Froscà is a rich and luminous Soave Classico that delivers vibrant tones of stone fruit, lemon blossom and dried sage. This expression shows a very pure and pristine aromatic quality. \n",
      " Gini 2009 La Froscà  (Soave Classico) \n",
      " price: 27.0 points: 90 \n",
      "\n",
      "\n",
      "Created by Vigouroux as a hommage to Malbec in Cahors and Argentina, this has the structure of Cahors and the rich smoothness of Mendoza. Complex, powerful, full of ripe fruit, it's impressively juicy, textured and full of acidity at the end. \n",
      " Georges Vigouroux 2011 Antisto Tradition Malbec (Cahors) \n",
      " price: 15.0 points: 88 \n",
      "\n",
      "\n",
      "Fiore di Campo is a beautiful blend of Tocai Friulano (85%) with smaller percentages of aromatic Sauvignon Blanc and Riesling. The Tocai element (that rests on the lees for eight months) adds a creamy rich quality and the other two varieties render a fresh bouquet of white flower, honeysuckle and passion fruit. \n",
      " Lis Neris 2009 Fiore di Campo White (Venezia Giulia) \n",
      " price: 22.0 points: 88 \n",
      "\n",
      "\n",
      "Made by Leonor Freitas in the family winery, this is a rich blend of Castelão, Touriga Nacional and Syrah. With its firm tannins balanced by juicy red fruit, it's a wine to savor from early 2018. \n",
      " Wines & Winemakers 2015 Monte da Baía Red (Península de Setúbal) \n",
      " price: 12.0 points: 86 \n",
      "\n",
      "\n"
     ]
    }
   ],
   "source": [
    "response = retriever.invoke(\"Quais vinhos tem notas frutadas?\")\n",
    "for resp in response:\n",
    "    print(resp.page_content, \"\\n\", resp.metadata['title'], \"\\n price:\", resp.metadata['price'], \"points:\", resp.metadata['points'], \"\\n\\n\")"
   ]
  },
  {
   "cell_type": "code",
   "execution_count": 17,
   "id": "af1665d4-e2bc-43b5-ac37-ee25b387e0d7",
   "metadata": {},
   "outputs": [
    {
     "name": "stdout",
     "output_type": "stream",
     "text": [
      "Named for a favored surf spot in Mexico, Sayulita is a new project from Balboa. This first release, from the Lefore vineyard, is 58% Cabernet Sauvignon and 42% Syrah, a perfect mix and showcase for the strengths of both. Soft and smooth, it's tightly woven with veins of earth, pepper, black olive, coffee, black fruits and licorice. \n",
      " Balboa 2006 Sayulita Red (Walla Walla Valley (WA)) \n",
      " price: 40.0 points: 93 \n",
      "\n",
      "\n",
      "Tenuta la Fuga (from Tenute Folonari) shows the best of the 2008 vintage with dark fruit nuances of candied fruit, rum cake, pomegranate juice, cassis and blackberry. You'll also find polished mineral nuances, cola, ginger and Spanish cedar. It shows intensity in the mouth, firm tannins and bright acidity. Cellar this wine 10 years. \n",
      " Tenuta La Fuga 2008  Brunello di Montalcino \n",
      " price: 67.0 points: 93 \n",
      "\n",
      "\n",
      "Luxuriously textured, this wine combines Petite Sirah, the son, with Syrah, its father. The two get along famously, showing a balance of powerfully soft blue fruit, garrigue and a ring of smoke. Its meatiness will impress, spiced as it is in dried herb and anise. \n",
      " Robert Biale 2013 Like Father Like Son Syrah-Petite Sirah (Napa Valley) \n",
      " price: 48.0 points: 94 \n",
      "\n",
      "\n",
      "Continuing the succession of fine wines from Aveleda's Quinta da Agueira in Bairrada, this is a powerful, firmly tannic but ultimately smooth wine. It has big ripe swathes of dark plums, figs and refreshing sweet acidity. \n",
      " Aveleda 2007 Follies Touriga Nacional (Bairrada) \n",
      " price: 18.0 points: 92 \n",
      "\n",
      "\n"
     ]
    }
   ],
   "source": [
    "response = retriever.invoke(\"Quais vinhos tem notas frutadas com pontuação entre 92 e 98 pontos?\")\n",
    "for resp in response:\n",
    "    print(resp.page_content, \"\\n\", resp.metadata['title'], \"\\n price:\", resp.metadata['price'], \"points:\", resp.metadata['points'], \"\\n\\n\")"
   ]
  },
  {
   "cell_type": "markdown",
   "id": "c01a4cdb-942c-4f82-879e-44662960709e",
   "metadata": {},
   "source": [
    "### Debug ON - para ver os filtros em ação"
   ]
  },
  {
   "cell_type": "code",
   "execution_count": 18,
   "id": "1e397a1a-8abe-44c0-ae0a-f48619e0dcbf",
   "metadata": {},
   "outputs": [
    {
     "name": "stdout",
     "output_type": "stream",
     "text": [
      "\u001b[32;1m\u001b[1;3m[chain/start]\u001b[0m \u001b[1m[retriever:Retriever > chain:query_constructor] Entering Chain run with input:\n",
      "\u001b[0m{\n",
      "  \"query\": \"Quais vinhos dos US têm preços entre 15 e 30 e pontos acima de 90?\"\n",
      "}\n",
      "\u001b[32;1m\u001b[1;3m[chain/start]\u001b[0m \u001b[1m[retriever:Retriever > chain:query_constructor > prompt:FewShotPromptTemplate] Entering Prompt run with input:\n",
      "\u001b[0m{\n",
      "  \"query\": \"Quais vinhos dos US têm preços entre 15 e 30 e pontos acima de 90?\"\n",
      "}\n",
      "\u001b[36;1m\u001b[1;3m[chain/end]\u001b[0m \u001b[1m[retriever:Retriever > chain:query_constructor > prompt:FewShotPromptTemplate] [1ms] Exiting Prompt run with output:\n",
      "\u001b[0m[outputs]\n",
      "\u001b[32;1m\u001b[1;3m[llm/start]\u001b[0m \u001b[1m[retriever:Retriever > chain:query_constructor > llm:ChatOpenAI] Entering LLM run with input:\n",
      "\u001b[0m{\n",
      "  \"prompts\": [\n",
      "    \"Human: Your goal is to structure the user's query to match the request schema provided below.\\n\\n<< Structured Request Schema >>\\nWhen responding use a markdown code snippet with a JSON object formatted in the following schema:\\n\\n```json\\n{\\n    \\\"query\\\": string \\\\ text string to compare to document contents\\n    \\\"filter\\\": string \\\\ logical condition statement for filtering documents\\n}\\n```\\n\\nThe query string should contain only text that is expected to match the contents of documents. Any conditions in the filter should not be mentioned in the query as well.\\n\\nA logical condition statement is composed of one or more comparison and logical operation statements.\\n\\nA comparison statement takes the form: `comp(attr, val)`:\\n- `comp` (eq | lt | lte | gt | gte | like): comparator\\n- `attr` (string):  name of attribute to apply the comparison to\\n- `val` (string): is the comparison value\\n\\nA logical operation statement takes the form `op(statement1, statement2, ...)`:\\n- `op` (and | or | not): logical operator\\n- `statement1`, `statement2`, ... (comparison statements or logical operation statements): one or more statements to apply the operation to\\n\\nMake sure that you only use the comparators and logical operators listed above and no others.\\nMake sure that filters only refer to attributes that exist in the data source.\\nMake sure that filters only use the attributed names with its function names if there are functions applied on them.\\nMake sure that filters only use format `YYYY-MM-DD` when handling date data typed values.\\nMake sure that filters take into account the descriptions of attributes and only make comparisons that are feasible given the type of data being stored.\\nMake sure that filters are only used as needed. If there are no filters that should be applied return \\\"NO_FILTER\\\" for the filter value.\\n\\n<< Example 1. >>\\nData Source:\\n```json\\n{\\n    \\\"content\\\": \\\"Lyrics of a song\\\",\\n    \\\"attributes\\\": {\\n        \\\"artist\\\": {\\n            \\\"type\\\": \\\"string\\\",\\n            \\\"description\\\": \\\"Name of the song artist\\\"\\n        },\\n        \\\"length\\\": {\\n            \\\"type\\\": \\\"integer\\\",\\n            \\\"description\\\": \\\"Length of the song in seconds\\\"\\n        },\\n        \\\"genre\\\": {\\n            \\\"type\\\": \\\"string\\\",\\n            \\\"description\\\": \\\"The song genre, one of \\\"pop\\\", \\\"rock\\\" or \\\"rap\\\"\\\"\\n        }\\n    }\\n}\\n```\\n\\nUser Query:\\nWhat are songs by Taylor Swift or Katy Perry about teenage romance under 3 minutes long in the dance pop genre\\n\\nStructured Request:\\n```json\\n{\\n    \\\"query\\\": \\\"teenager love\\\",\\n    \\\"filter\\\": \\\"and(or(eq(\\\\\\\"artist\\\\\\\", \\\\\\\"Taylor Swift\\\\\\\"), eq(\\\\\\\"artist\\\\\\\", \\\\\\\"Katy Perry\\\\\\\")), lt(\\\\\\\"length\\\\\\\", 180), eq(\\\\\\\"genre\\\\\\\", \\\\\\\"pop\\\\\\\"))\\\"\\n}\\n```\\n\\n\\n<< Example 2. >>\\nData Source:\\n```json\\n{\\n    \\\"content\\\": \\\"Lyrics of a song\\\",\\n    \\\"attributes\\\": {\\n        \\\"artist\\\": {\\n            \\\"type\\\": \\\"string\\\",\\n            \\\"description\\\": \\\"Name of the song artist\\\"\\n        },\\n        \\\"length\\\": {\\n            \\\"type\\\": \\\"integer\\\",\\n            \\\"description\\\": \\\"Length of the song in seconds\\\"\\n        },\\n        \\\"genre\\\": {\\n            \\\"type\\\": \\\"string\\\",\\n            \\\"description\\\": \\\"The song genre, one of \\\"pop\\\", \\\"rock\\\" or \\\"rap\\\"\\\"\\n        }\\n    }\\n}\\n```\\n\\nUser Query:\\nWhat are songs that were not published on Spotify\\n\\nStructured Request:\\n```json\\n{\\n    \\\"query\\\": \\\"\\\",\\n    \\\"filter\\\": \\\"NO_FILTER\\\"\\n}\\n```\\n\\n\\n<< Example 3. >>\\nData Source:\\n```json\\n{\\n    \\\"content\\\": \\\"Breve descrição do vinho\\\",\\n    \\\"attributes\\\": {\\n    \\\"country\\\": {\\n        \\\"description\\\": \\\"O pa\\\\u00eds de onde o vinho \\\\u00e9 proveniente\\\",\\n        \\\"type\\\": \\\"string\\\"\\n    },\\n    \\\"points\\\": {\\n        \\\"description\\\": \\\"O n\\\\u00famero de pontos que a WineEnthusiast classificou o vinho em uma escala de 1 a 10\\\",\\n        \\\"type\\\": \\\"integer\\\"\\n    },\\n    \\\"price\\\": {\\n        \\\"description\\\": \\\"O pre\\\\u00e7o de uma garrafa de vinho\\\",\\n        \\\"type\\\": \\\"float\\\"\\n    },\\n    \\\"variety\\\": {\\n        \\\"description\\\": \\\"As uvas utilizadas para fazer o vinho\\\",\\n        \\\"type\\\": \\\"string\\\"\\n    }\\n}\\n}\\n```\\n\\nUser Query:\\nQuais vinhos dos US têm preços entre 15 e 30 e pontos acima de 90?\\n\\nStructured Request:\"\n",
      "  ]\n",
      "}\n",
      "\u001b[36;1m\u001b[1;3m[llm/end]\u001b[0m \u001b[1m[retriever:Retriever > chain:query_constructor > llm:ChatOpenAI] [2.71s] Exiting LLM run with output:\n",
      "\u001b[0m{\n",
      "  \"generations\": [\n",
      "    [\n",
      "      {\n",
      "        \"text\": \"```json\\n{\\n    \\\"query\\\": \\\"\\\",\\n    \\\"filter\\\": \\\"and(eq(\\\\\\\"country\\\\\\\", \\\\\\\"US\\\\\\\"), and(gte(\\\\\\\"price\\\\\\\", 15), lte(\\\\\\\"price\\\\\\\", 30)), gt(\\\\\\\"points\\\\\\\", 90))\\\"\\n}\\n```\",\n",
      "        \"generation_info\": {\n",
      "          \"finish_reason\": \"stop\",\n",
      "          \"logprobs\": null\n",
      "        },\n",
      "        \"type\": \"ChatGeneration\",\n",
      "        \"message\": {\n",
      "          \"lc\": 1,\n",
      "          \"type\": \"constructor\",\n",
      "          \"id\": [\n",
      "            \"langchain\",\n",
      "            \"schema\",\n",
      "            \"messages\",\n",
      "            \"AIMessage\"\n",
      "          ],\n",
      "          \"kwargs\": {\n",
      "            \"content\": \"```json\\n{\\n    \\\"query\\\": \\\"\\\",\\n    \\\"filter\\\": \\\"and(eq(\\\\\\\"country\\\\\\\", \\\\\\\"US\\\\\\\"), and(gte(\\\\\\\"price\\\\\\\", 15), lte(\\\\\\\"price\\\\\\\", 30)), gt(\\\\\\\"points\\\\\\\", 90))\\\"\\n}\\n```\",\n",
      "            \"response_metadata\": {\n",
      "              \"token_usage\": {\n",
      "                \"completion_tokens\": 50,\n",
      "                \"prompt_tokens\": 948,\n",
      "                \"total_tokens\": 998\n",
      "              },\n",
      "              \"model_name\": \"gpt-4o-mini-2024-07-18\",\n",
      "              \"system_fingerprint\": \"fp_611b667b19\",\n",
      "              \"finish_reason\": \"stop\",\n",
      "              \"logprobs\": null\n",
      "            },\n",
      "            \"type\": \"ai\",\n",
      "            \"id\": \"run-f4eb5150-844e-45e1-b7de-1ea658445dcc-0\",\n",
      "            \"usage_metadata\": {\n",
      "              \"input_tokens\": 948,\n",
      "              \"output_tokens\": 50,\n",
      "              \"total_tokens\": 998\n",
      "            },\n",
      "            \"tool_calls\": [],\n",
      "            \"invalid_tool_calls\": []\n",
      "          }\n",
      "        }\n",
      "      }\n",
      "    ]\n",
      "  ],\n",
      "  \"llm_output\": {\n",
      "    \"token_usage\": {\n",
      "      \"completion_tokens\": 50,\n",
      "      \"prompt_tokens\": 948,\n",
      "      \"total_tokens\": 998\n",
      "    },\n",
      "    \"model_name\": \"gpt-4o-mini-2024-07-18\",\n",
      "    \"system_fingerprint\": \"fp_611b667b19\"\n",
      "  },\n",
      "  \"run\": null\n",
      "}\n",
      "\u001b[32;1m\u001b[1;3m[chain/start]\u001b[0m \u001b[1m[retriever:Retriever > chain:query_constructor > parser:StructuredQueryOutputParser] Entering Parser run with input:\n",
      "\u001b[0m[inputs]\n",
      "\u001b[36;1m\u001b[1;3m[chain/end]\u001b[0m \u001b[1m[retriever:Retriever > chain:query_constructor > parser:StructuredQueryOutputParser] [3ms] Exiting Parser run with output:\n",
      "\u001b[0m[outputs]\n",
      "\u001b[36;1m\u001b[1;3m[chain/end]\u001b[0m \u001b[1m[retriever:Retriever > chain:query_constructor] [2.71s] Exiting Chain run with output:\n",
      "\u001b[0m[outputs]\n"
     ]
    },
    {
     "data": {
      "text/plain": [
       "[Document(metadata={'country': 'US', 'points': 91, 'price': 28.0, 'title': 'Dobbes Family Estate 2014 Grand Assemblage Pinot Noir (Willamette Valley)', 'variety': 'Pinot Noir', '_id': 10604, '_collection_name': 'wine_reviews'}, page_content='An outstanding value, the latest release of this wine dazzles with bold, black cherry and chocolate mocha flavors. The focus and definition throughout are exceptional also. This is a gem at a more than fair tariff.'),\n",
       " Document(metadata={'country': 'US', 'points': 92, 'price': 30.0, 'title': \"Bouchaine 2013 Chêne d'Argent Estate Vineyard Chardonnay (Carneros)\", 'variety': 'Chardonnay', '_id': 102251, '_collection_name': 'wine_reviews'}, page_content='This is an amazingly fresh and fruity tank-fermented wine, imparting a subtle hint of grass before unleashing sublime layers of melon and apricot alongside measured, zesty acidity. New winemaker Chris Kajani is taking things in a refreshing, aim-for-the-top direction with this bottling.'),\n",
       " Document(metadata={'country': 'US', 'points': 92, 'price': 25.0, 'title': 'Conn Creek 2014 Chardonnay (Carneros)', 'variety': 'Chardonnay', '_id': 100685, '_collection_name': 'wine_reviews'}, page_content=\"A streak of confectionary nougat and lemony acidity combine for a smooth, well-integrated wine, full bodied in style, that's lip-smacking in apple-cider juiciness on the finish.\"),\n",
       " Document(metadata={'country': 'US', 'points': 91, 'price': 19.0, 'title': 'Longoria 2011 Pinot Grigio (Santa Barbara County)', 'variety': 'Pinot Grigio', '_id': 105297, '_collection_name': 'wine_reviews'}, page_content='Rick Longoria shows increasing mastery over this popular variety, lifting it into true complexity. After an outstanding 2010 vintage, his 2011 is even better, showing the same crisp acidity and savory orange, apricot and honey flavors, but with even greater elegance.')]"
      ]
     },
     "execution_count": 18,
     "metadata": {},
     "output_type": "execute_result"
    }
   ],
   "source": [
    "retriever.invoke(\"Quais vinhos dos US têm preços entre 15 e 30 e pontos acima de 90?\", {\"callbacks\":[handler]})"
   ]
  },
  {
   "cell_type": "code",
   "execution_count": null,
   "id": "5bd77077-89e0-43e9-b446-a3476a599021",
   "metadata": {},
   "outputs": [],
   "source": []
  }
 ],
 "metadata": {
  "kernelspec": {
   "display_name": "Python 3 (ipykernel)",
   "language": "python",
   "name": "python3"
  },
  "language_info": {
   "codemirror_mode": {
    "name": "ipython",
    "version": 3
   },
   "file_extension": ".py",
   "mimetype": "text/x-python",
   "name": "python",
   "nbconvert_exporter": "python",
   "pygments_lexer": "ipython3",
   "version": "3.12.4"
  }
 },
 "nbformat": 4,
 "nbformat_minor": 5
}
