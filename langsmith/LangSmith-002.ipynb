{
 "cells": [
  {
   "cell_type": "code",
   "execution_count": 11,
   "id": "6e961592-1bad-4213-bdb1-162b8fc1892a",
   "metadata": {},
   "outputs": [],
   "source": [
    "import os\n",
    "from openai import OpenAI\n",
    "from langsmith import traceable\n",
    "from langsmith.wrappers import wrap_openai\n",
    "\n",
    "from dotenv import load_dotenv\n",
    "load_dotenv('./.env')\n",
    "\n",
    "os.environ[\"LANGCHAIN_PROJECT\"] = \"Demo LangSmith 02\""
   ]
  },
  {
   "cell_type": "code",
   "execution_count": 12,
   "id": "b119f2e0-16f6-4377-8952-827b01662f1c",
   "metadata": {},
   "outputs": [],
   "source": [
    "#openai_client = OpenAI()\n",
    "openai_client = wrap_openai(OpenAI())"
   ]
  },
  {
   "cell_type": "code",
   "execution_count": 16,
   "id": "ad81876a-16bc-4b57-8772-f3ee83f978d0",
   "metadata": {},
   "outputs": [],
   "source": [
    "@traceable\n",
    "def retriever(query: str):\n",
    "    results = [\"LangSmith serve para observabilidade!\"]\n",
    "    return results"
   ]
  },
  {
   "cell_type": "code",
   "execution_count": 17,
   "id": "6303bff6-acfe-4910-9505-a9844e59bb13",
   "metadata": {},
   "outputs": [],
   "source": [
    "@traceable\n",
    "def rag(question):\n",
    "    docs = retriever(question)\n",
    "    system_message = \"\"\"Responda à pergunta dos usuários usando apenas as informações fornecidas abaixo:\n",
    "    \n",
    "    {docs}\"\"\".format(docs=\"\\n\".join(docs))\n",
    "    \n",
    "    return openai_client.chat.completions.create(\n",
    "        messages=[\n",
    "            {\"role\": \"system\", \"content\": system_message},\n",
    "            {\"role\": \"user\", \"content\": question},\n",
    "        ],\n",
    "        model=\"gpt-4o-mini\",\n",
    "    )"
   ]
  },
  {
   "cell_type": "code",
   "execution_count": 18,
   "id": "56e3b7a3-5b80-4a6c-a388-ba7ec65652a0",
   "metadata": {},
   "outputs": [
    {
     "data": {
      "text/plain": [
       "ChatCompletion(id='chatcmpl-A0znuWYMMzaurg8b7bm2iL00QCYKI', choices=[Choice(finish_reason='stop', index=0, logprobs=None, message=ChatCompletionMessage(content='LangSmith serve para observabilidade!', role='assistant', function_call=None, tool_calls=None, refusal=None))], created=1724800938, model='gpt-4o-mini-2024-07-18', object='chat.completion', service_tier=None, system_fingerprint='fp_f33667828e', usage=CompletionUsage(completion_tokens=7, prompt_tokens=41, total_tokens=48))"
      ]
     },
     "execution_count": 18,
     "metadata": {},
     "output_type": "execute_result"
    }
   ],
   "source": [
    "rag(\"pra que server LangSmith?\")"
   ]
  },
  {
   "cell_type": "code",
   "execution_count": null,
   "id": "58b7808c-c265-49ca-9313-591ebfa0f6dc",
   "metadata": {},
   "outputs": [],
   "source": []
  }
 ],
 "metadata": {
  "kernelspec": {
   "display_name": "Python 3 (ipykernel)",
   "language": "python",
   "name": "python3"
  },
  "language_info": {
   "codemirror_mode": {
    "name": "ipython",
    "version": 3
   },
   "file_extension": ".py",
   "mimetype": "text/x-python",
   "name": "python",
   "nbconvert_exporter": "python",
   "pygments_lexer": "ipython3",
   "version": "3.12.4"
  }
 },
 "nbformat": 4,
 "nbformat_minor": 5
}
